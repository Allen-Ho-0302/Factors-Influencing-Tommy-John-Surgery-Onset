{
 "cells": [
  {
   "cell_type": "markdown",
   "metadata": {},
   "source": [
    "#Introduction:\n",
    "\n",
    "Try to find out the correlation between pitchers' weight, height, pitch type, pitch velocity, horizontal, vertical movement and their onset of Tommy John Surgery.\n",
    "\n",
    "#Methods:\n",
    "\n",
    "Pitchers' pitch type, pitch velocity, horizontal, vertical movement data was from FanGraphs<br>\n",
    "Pitchers' debut date was from Lahman baseball database<br>\n",
    "Pitchers' Tommy John Surgery date was from Wikipedia<br>\n",
    "Players can have multiple Tommy John surgeries throughout their career, in this research we only focus on the time span between their debut and first surgery<br>\n",
    "Data include 146 MLB pitchers making debut from 2000-2020 who at least had one Tommy John surgery during his career"
   ]
  },
  {
   "cell_type": "markdown",
   "metadata": {},
   "source": [
    "##Step1: Import the data "
   ]
  },
  {
   "cell_type": "code",
   "execution_count": 1,
   "metadata": {
    "scrolled": true
   },
   "outputs": [
    {
     "name": "stdout",
     "output_type": "stream",
     "text": [
      "          PlayerName     firstTJ  debuttofirstTJ Throwarm  weight  height  \\\n",
      "0      Aaron Barrett  2015-09-03             521    Right   230.0    75.0   \n",
      "1    Adam Wainwright  2011-02-28            1996    Right   235.0    79.0   \n",
      "2          Alex Cobb  2015-05-14            1474    Right   205.0    75.0   \n",
      "3         Alex Reyes  2017-02-16             191    Right   175.0    75.0   \n",
      "4    Ambiorix Burgos  2007-08-28             857    Right   235.0    75.0   \n",
      "..               ...         ...             ...      ...     ...     ...   \n",
      "141       Will Smith  2017-03-30            1772     Left   248.0    77.0   \n",
      "142      Yimi Garcia  2016-10-25             785    Right   225.0    72.0   \n",
      "143       Yu Darvish  2015-03-17            1072    Right   220.0    77.0   \n",
      "144        Zach Duke  2016-10-14            4122     Left   210.0    74.0   \n",
      "145      Zach Putnam  2017-06-01            2088    Right   220.0    74.0   \n",
      "\n",
      "       FBp   FBv  FBhm  FBvm  ...  SLhm  SLvm    CBp   CBv  CBhm  CBvm    CHp  \\\n",
      "0    0.626  93.6   2.8   9.1  ...   7.4   6.5    NaN   NaN   NaN   NaN  0.013   \n",
      "1    0.450  90.3   1.6   8.1  ...   7.1   7.3  0.265  74.0   9.4   8.7  0.051   \n",
      "2    0.473  91.4   6.2   9.5  ...   8.0   8.0  0.233  80.3   3.8   9.5  0.294   \n",
      "3    0.627  96.6   4.5   9.6  ...   7.3   7.7  0.104  79.3   4.5  11.6  0.179   \n",
      "4    0.725  95.8   0.4   2.4  ...   0.0   0.0  0.001  83.0   0.0   0.0  0.010   \n",
      "..     ...   ...   ...   ...  ...   ...   ...    ...   ...   ...   ...    ...   \n",
      "141  0.524  92.1   4.2  10.2  ...   7.5   8.2  0.132  77.5   4.3   4.2  0.032   \n",
      "142  0.571  93.7   4.7   7.5  ...   8.8   2.8    NaN   NaN   6.0   1.8  0.046   \n",
      "143  0.454  93.4   2.6   9.8  ...   7.7   6.0  0.091  74.3   6.9   7.6  0.018   \n",
      "144  0.595  88.3   4.7   7.9  ...   9.4   4.1  0.148  73.7   4.5   4.6  0.135   \n",
      "145  0.238  90.6   6.7   7.6  ...   9.4   2.0    NaN   NaN   9.3   5.5    NaN   \n",
      "\n",
      "      CHv  CHhm  CHvm  \n",
      "0    86.4   4.9   6.7  \n",
      "1    82.3   7.6   3.9  \n",
      "2    86.0   8.6   5.1  \n",
      "3    87.9   6.9   5.1  \n",
      "4    86.6   0.0   0.0  \n",
      "..    ...   ...   ...  \n",
      "141  85.3   7.0   8.0  \n",
      "142  86.9   8.6   2.0  \n",
      "143  86.8   5.8   4.2  \n",
      "144  81.7   8.7   3.4  \n",
      "145   NaN   NaN   NaN  \n",
      "\n",
      "[146 rows x 22 columns]\n"
     ]
    }
   ],
   "source": [
    "#import packages\n",
    "import pandas as pd\n",
    "import pyodbc\n",
    "\n",
    "#connect with sql server and retrieve the data we want\n",
    "sql_conn = pyodbc.connect('''DRIVER={ODBC Driver 13 for SQL Server};\n",
    "                            SERVER=ALLENHO\\MSSQLSERVER002;\n",
    "                            DATABASE=TommyJohn;\n",
    "                            Trusted_Connection=yes''')\n",
    "query = '''\n",
    "select t.PlayerName, t.firstTJ, datediff(day, p.debut, t.firstTJ) as debuttofirstTJ, t.Throwarm, p.weight, p.height,\n",
    "k.FBp, k.FBv, abs(h.FAX) as FBhm, abs(v.FAZ) as FBvm,\n",
    "k.SLp, k.SLv, abs(h.SIX) as SLhm, abs(v.SIZ) as SLvm,\n",
    "k.CBp, k.CBv, abs(h.CUX) as CBhm, abs(v.CUZ) as CBvm,\n",
    "k.CHp, k.CHv, abs(h.CHX) as CHhm, abs(v.CHZ) as CHvm\n",
    "from TJS t\n",
    "left join People p\n",
    "on t.PlayerName=concat(p.nameFirst,' ',p.nameLast)\n",
    "left join Pitchtype k\n",
    "on t.PlayerName=k.Name\n",
    "left join Horizontal h\n",
    "on t.PlayerName=h.Name\n",
    "left join Vertical v\n",
    "on t.PlayerName=v.Name\n",
    "where (datediff(day, p.debut, t.firstTJ) between 0 and 5200) and (p.debut>='2000-01-01') and FBp is not null\n",
    "order by t.PlayerName\n",
    "'''\n",
    "\n",
    "#convert the data into dataframe\n",
    "df = pd.read_sql(query, sql_conn)\n",
    "\n",
    "#take a look at the data\n",
    "print(df)"
   ]
  },
  {
   "cell_type": "markdown",
   "metadata": {},
   "source": [
    "###Column meaning:\n",
    "firstTJ: the date that player got their Tommy John surgery<br>\n",
    "debuttofirstTJ: time span between player's debut and his first TJ surgery<br>\n",
    "FB: Fastball<br>\n",
    "SL: Slider<br>\n",
    "CB: Curveball<br>\n",
    "CH: Changeup<br>\n",
    "p: percentage (for example, FBp means Fastball percentage)<br>\n",
    "v: velocity (for example, FBv means Fastball velocity)<br>\n",
    "hm: horizontal movement (for example, FBhm means Fastball horizontal movement)<br>\n",
    "vm: vertical movement(for example, FBvm means Fastball vertical movement)"
   ]
  },
  {
   "cell_type": "markdown",
   "metadata": {},
   "source": [
    "##Step2: Build the correlation table between debuttofirstTJ and all the variables"
   ]
  },
  {
   "cell_type": "code",
   "execution_count": 2,
   "metadata": {
    "scrolled": false
   },
   "outputs": [
    {
     "name": "stdout",
     "output_type": "stream",
     "text": [
      "debuttofirstTJ    1.000000\n",
      "weight           -0.049555\n",
      "height            0.010899\n",
      "FBp               0.058668\n",
      "FBv              -0.220199\n",
      "FBhm             -0.001171\n",
      "FBvm              0.033241\n",
      "SLp              -0.257609\n",
      "SLv              -0.236190\n",
      "SLhm              0.010553\n",
      "SLvm             -0.056894\n",
      "CBp               0.023230\n",
      "CBv              -0.096009\n",
      "CBhm             -0.015895\n",
      "CBvm             -0.067654\n",
      "CHp              -0.085662\n",
      "CHv              -0.209635\n",
      "CHhm             -0.070154\n",
      "CHvm              0.026258\n",
      "Name: debuttofirstTJ, dtype: float64\n"
     ]
    }
   ],
   "source": [
    "#get the correlation table from df\n",
    "from scipy.stats.stats import pearsonr\n",
    "df_corr = df.corr()\n",
    "print(df_corr.loc['debuttofirstTJ',:])"
   ]
  },
  {
   "cell_type": "markdown",
   "metadata": {},
   "source": [
    "Keep in mind that a minus correlation is not weaker than a plus correlation; they’re the same strength, only in opposite directions. For example, in a +0.8 correlation, when one stat gets higher, the other also tends to; in -0.8, when one goes up, the other goes down. So it’s the absolute value we care about the most.<br>\n",
    "\n",
    "As it turned out,  <br>\n",
    "Fastball velocity -0.220199;<br>\n",
    "Slider percentage -0.251877;<br>\n",
    "Slider velocity   -0.230935;<br>\n",
    "Changeup velocity -0.203029<br>\n",
    "are the four most significant factors related to first Tommy John Surgery onset time.<br>\n",
    "\n",
    "Also we can see that these four are all negatively related, which means the bigger they are, the quicker these pitchers got their first Tommy John Surgery.<br>\n",
    "\n",
    "However keep in mind that Pearson correlation doesn't imply one variable cause another to happen. We can only say based on what we saw, out of these variables, it is these four that are most significantly negatively correlate with first Tommy John Surgery onset time."
   ]
  },
  {
   "cell_type": "markdown",
   "metadata": {},
   "source": [
    "Then take a closer look at these four variables to reassure these Pearson correlation are statistically signicant(P<0.05)\n",
    "SLp, SLv, CHp need some fill in for the NA value(not every pitcher throw these type of pitches). I use the mean of the whole dataset for these missing values."
   ]
  },
  {
   "cell_type": "code",
   "execution_count": 3,
   "metadata": {},
   "outputs": [
    {
     "data": {
      "text/plain": [
       "(-0.2201985352799605, 0.007570195161803116)"
      ]
     },
     "execution_count": 3,
     "metadata": {},
     "output_type": "execute_result"
    }
   ],
   "source": [
    "pearsonr(df.loc[:,'FBv'],df.loc[:,'debuttofirstTJ'])"
   ]
  },
  {
   "cell_type": "code",
   "execution_count": 4,
   "metadata": {
    "scrolled": true
   },
   "outputs": [
    {
     "data": {
      "text/plain": [
       "(-0.2518767265489322, 0.002163051260958012)"
      ]
     },
     "execution_count": 4,
     "metadata": {},
     "output_type": "execute_result"
    }
   ],
   "source": [
    "mean_SLp=df['SLp'].mean()\n",
    "df['SLp']=df['SLp'].fillna(mean_SLp)\n",
    "pearsonr(df.loc[:,'SLp'],df.loc[:,'debuttofirstTJ'])"
   ]
  },
  {
   "cell_type": "code",
   "execution_count": 5,
   "metadata": {},
   "outputs": [
    {
     "data": {
      "text/plain": [
       "(-0.2309346712902471, 0.005040712073583125)"
      ]
     },
     "execution_count": 5,
     "metadata": {},
     "output_type": "execute_result"
    }
   ],
   "source": [
    "mean_SLv=df['SLv'].mean()\n",
    "df['SLv']=df['SLv'].fillna(mean_SLv)\n",
    "pearsonr(df.loc[:,'SLv'],df.loc[:,'debuttofirstTJ'])"
   ]
  },
  {
   "cell_type": "code",
   "execution_count": 6,
   "metadata": {},
   "outputs": [
    {
     "data": {
      "text/plain": [
       "(-0.20302852126176202, 0.013980261646684347)"
      ]
     },
     "execution_count": 6,
     "metadata": {},
     "output_type": "execute_result"
    }
   ],
   "source": [
    "mean_CHp=df['CHv'].mean()\n",
    "df['CHv']=df['CHv'].fillna(mean_CHp)\n",
    "pearsonr(df.loc[:,'CHv'],df.loc[:,'debuttofirstTJ'])"
   ]
  },
  {
   "cell_type": "markdown",
   "metadata": {},
   "source": [
    "##Step 3: Visualization of the correlation table"
   ]
  },
  {
   "cell_type": "code",
   "execution_count": 7,
   "metadata": {
    "scrolled": true
   },
   "outputs": [
    {
     "data": {
      "image/png": "[encoded data removed]",
      "text/plain": [
       "<Figure size 432x288 with 1 Axes>"
      ]
     },
     "metadata": {
      "needs_background": "light"
     },
     "output_type": "display_data"
    }
   ],
   "source": [
    "import numpy as np\n",
    "import matplotlib.pyplot as plt\n",
    "from scipy.stats import linregress\n",
    "fig, ax = plt.subplots()\n",
    "\n",
    "#-----plot the correlation table as bar plot----------------------\n",
    "ax.bar(df_corr.index, df_corr['debuttofirstTJ'])\n",
    "\n",
    "ax.set_xticklabels(df_corr.index, rotation=90)\n",
    "\n",
    "ax.set_ylabel('correlation coefficent with onset of TJ')\n",
    "\n",
    "plt.show()"
   ]
  },
  {
   "cell_type": "markdown",
   "metadata": {},
   "source": [
    "Closer look at the comparison of percentage usage of all four types of pitches"
   ]
  },
  {
   "cell_type": "code",
   "execution_count": 8,
   "metadata": {},
   "outputs": [
    {
     "data": {
      "image/png": "[encoded data removed]",
      "text/plain": [
       "<Figure size 432x288 with 1 Axes>"
      ]
     },
     "metadata": {
      "needs_background": "light"
     },
     "output_type": "display_data"
    }
   ],
   "source": [
    "fig, ax = plt.subplots()\n",
    "\n",
    "df_corr_percentage=df_corr.loc[['FBp','SLp','CBp','CHp'],:]\n",
    "\n",
    "ax.bar(df_corr_percentage.index, df_corr_percentage['debuttofirstTJ'])\n",
    "\n",
    "ax.set_xticklabels(df_corr_percentage.index)\n",
    "\n",
    "ax.set_ylabel('correlation coefficent with onset of TJ')\n",
    "\n",
    "plt.show()"
   ]
  },
  {
   "cell_type": "markdown",
   "metadata": {},
   "source": [
    "Closer look at the comparison of velocity of all four types of pitches"
   ]
  },
  {
   "cell_type": "code",
   "execution_count": 9,
   "metadata": {},
   "outputs": [
    {
     "data": {
      "image/png": "[encoded data removed]",
      "text/plain": [
       "<Figure size 432x288 with 1 Axes>"
      ]
     },
     "metadata": {
      "needs_background": "light"
     },
     "output_type": "display_data"
    }
   ],
   "source": [
    "fig, ax = plt.subplots()\n",
    "\n",
    "df_corr_velocity=df_corr.loc[['FBv','SLv','CBv','CHv'],:]\n",
    "\n",
    "ax.bar(df_corr_velocity.index, df_corr_velocity['debuttofirstTJ'])\n",
    "\n",
    "ax.set_xticklabels(df_corr_velocity.index)\n",
    "\n",
    "ax.set_ylabel('correlation coefficent with onset of TJ')\n",
    "\n",
    "plt.show()"
   ]
  },
  {
   "cell_type": "markdown",
   "metadata": {},
   "source": [
    "Closer look at the comparison of horizontal movement of all four types of pitches"
   ]
  },
  {
   "cell_type": "code",
   "execution_count": 10,
   "metadata": {},
   "outputs": [
    {
     "data": {
      "image/png": "[encoded data removed]",
      "text/plain": [
       "<Figure size 432x288 with 1 Axes>"
      ]
     },
     "metadata": {
      "needs_background": "light"
     },
     "output_type": "display_data"
    }
   ],
   "source": [
    "fig, ax = plt.subplots()\n",
    "\n",
    "df_corr_percentage=df_corr.loc[['FBhm','SLhm','CBhm','CHhm'],:]\n",
    "\n",
    "ax.bar(df_corr_percentage.index, df_corr_percentage['debuttofirstTJ'])\n",
    "\n",
    "ax.set_xticklabels(df_corr_percentage.index)\n",
    "\n",
    "ax.set_ylabel('correlation coefficent with onset of TJ')\n",
    "\n",
    "plt.show()"
   ]
  },
  {
   "cell_type": "markdown",
   "metadata": {},
   "source": [
    "Closer look at the comparison of vertical movement of all four types of pitches"
   ]
  },
  {
   "cell_type": "code",
   "execution_count": 11,
   "metadata": {},
   "outputs": [
    {
     "data": {
      "image/png": "[encoded data removed]",
      "text/plain": [
       "<Figure size 432x288 with 1 Axes>"
      ]
     },
     "metadata": {
      "needs_background": "light"
     },
     "output_type": "display_data"
    }
   ],
   "source": [
    "fig, ax = plt.subplots()\n",
    "\n",
    "df_corr_percentage=df_corr.loc[['FBvm','SLvm','CBvm','CHvm'],:]\n",
    "\n",
    "ax.bar(df_corr_percentage.index, df_corr_percentage['debuttofirstTJ'])\n",
    "\n",
    "ax.set_xticklabels(df_corr_percentage.index)\n",
    "\n",
    "ax.set_ylabel('correlation coefficent with onset of TJ')\n",
    "\n",
    "plt.show()"
   ]
  },
  {
   "cell_type": "markdown",
   "metadata": {},
   "source": [
    "Take a look at the scatter plot of the most significant variables: Slider percentage usage"
   ]
  },
  {
   "cell_type": "code",
   "execution_count": 12,
   "metadata": {
    "scrolled": false
   },
   "outputs": [
    {
     "data": {
      "image/png": "[encoded data removed]",
      "text/plain": [
       "<Figure size 432x288 with 1 Axes>"
      ]
     },
     "metadata": {
      "needs_background": "light"
     },
     "output_type": "display_data"
    }
   ],
   "source": [
    "# Make scatter plot\n",
    "_ = plt.plot(df['SLp'], df['debuttofirstTJ'], marker='.',\n",
    "             linestyle='none', color='blue', alpha=0.5)\n",
    "\n",
    "# Label axes and make legend\n",
    "_ = plt.xlabel('slider percentage')\n",
    "_ = plt.ylabel('Onset of first TJ')"
   ]
  },
  {
   "cell_type": "markdown",
   "metadata": {},
   "source": [
    "From the scatter plot it is safe to say that it will not be easy to come up with a good linear predictive model, no matter it's only slider percentage or any combination of other variables. However I still give it a shot and try to build a regression tree model from the four best predictors."
   ]
  },
  {
   "cell_type": "markdown",
   "metadata": {},
   "source": [
    "##Step 4: Build a regression tree model"
   ]
  },
  {
   "cell_type": "code",
   "execution_count": 17,
   "metadata": {
    "scrolled": true
   },
   "outputs": [
    {
     "name": "stdout",
     "output_type": "stream",
     "text": [
      "Mean Absolute Error: 1011.8514235190098\n",
      "Root Mean Squared Error: 1346.1090531411403\n",
      "R Squared Score is: -0.3008203763249162\n"
     ]
    }
   ],
   "source": [
    "from sklearn.tree import DecisionTreeRegressor\n",
    "from sklearn.model_selection import train_test_split\n",
    "from sklearn import metrics\n",
    "from sklearn.metrics import r2_score\n",
    "\n",
    "mean_SLp=df['SLp'].mean()\n",
    "df['SLp']=df['SLp'].fillna(mean_SLp)\n",
    "\n",
    "mean_SLv=df['SLv'].mean()\n",
    "df['SLv']=df['SLv'].fillna(mean_SLv)\n",
    "\n",
    "mean_CHp=df['CHv'].mean()\n",
    "df['CHv']=df['CHv'].fillna(mean_CHp)\n",
    "\n",
    "# split data into X and y\n",
    "X = df.loc[:,['FBv','SLp','SLv','CHv']]\n",
    "Y = df.loc[:,'debuttofirstTJ']\n",
    "\n",
    "# split data into train and test sets\n",
    "X_train, X_test, y_train, y_test = train_test_split(X, Y, test_size=0.2)\n",
    "\n",
    "# define the model\n",
    "model = DecisionTreeRegressor(criterion = 'mse', max_depth=5)\n",
    "model.fit(X_train, y_train)\n",
    "\n",
    "# make predictions for test data\n",
    "y_pred = model.predict(X_test)\n",
    "\n",
    "print('Mean Absolute Error:', metrics.mean_absolute_error(y_test, y_pred))\n",
    "print('Root Mean Squared Error:', np.sqrt(metrics.mean_squared_error(y_test, y_pred)))\n",
    "print('R Squared Score is:', r2_score(y_test, y_pred))"
   ]
  },
  {
   "cell_type": "markdown",
   "metadata": {},
   "source": [
    "Mean Absolute Error: the mean of the absolute values of the individual prediction errors on over all instances in the test set. It tells us how big of an error we can expect on average<br>\n",
    "\n",
    "Root Mean Squared Error: By calculating the square root of the mean of the square of all of the error, we arrive at a measure of the size of the error that gives more weight to the large but infrequent errors than the mean. We can also compare RMSE and MAE to determine whether the forecast contains large but infrequent errors: the larger the difference between RMSE and MAE the more inconsistent the error size<br>\n",
    "\n",
    "R-square is defined as the proportion of variance explained by the model, if the model is actually worse than just fitting a horizontal line then R-square is negative. Although it's definitely not good to see that in our model, we can still take a look at the feature importance, indicating the relative importance of each feature when making a prediction."
   ]
  },
  {
   "cell_type": "markdown",
   "metadata": {},
   "source": [
    "Take a look at the feature importance"
   ]
  },
  {
   "cell_type": "code",
   "execution_count": 18,
   "metadata": {},
   "outputs": [
    {
     "name": "stdout",
     "output_type": "stream",
     "text": [
      "SLv 0.3725306848179174\n",
      "SLp 0.31259548831222556\n",
      "CHv 0.18620779200459422\n",
      "FBv 0.1286660348652628\n"
     ]
    }
   ],
   "source": [
    "for importance, name in sorted(zip(model.feature_importances_, X_train.columns),reverse=True):\n",
    " print(name, importance)"
   ]
  },
  {
   "cell_type": "markdown",
   "metadata": {},
   "source": [
    "#Conclusion\n",
    "\n",
    "Although it is really hard to come up with a good model for these variables, we can still get the idea of which variables(Fastball velocity, Slider percentage, Slider velocity, Changeup velocity) are more significantly related with the onset of first time Tommy John Surgery. Also a negative finding is a finding as well, from this research we get to know that the pitch type, usage, velocity and movement seem not to have a great correlation with the onset of first time TJ surgery."
   ]
  }
 ],
 "metadata": {
  "kernelspec": {
   "display_name": "Python 3",
   "language": "python",
   "name": "python3"
  },
  "language_info": {
   "codemirror_mode": {
    "name": "ipython",
    "version": 3
   },
   "file_extension": ".py",
   "mimetype": "text/x-python",
   "name": "python",
   "nbconvert_exporter": "python",
   "pygments_lexer": "ipython3",
   "version": "3.6.10"
  }
 },
 "nbformat": 4,
 "nbformat_minor": 4
}
